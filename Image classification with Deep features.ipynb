{
 "cells": [
  {
   "cell_type": "code",
   "execution_count": 1,
   "metadata": {},
   "outputs": [],
   "source": [
    "import turicreate as tc"
   ]
  },
  {
   "cell_type": "markdown",
   "metadata": {},
   "source": [
    "# Load a common image analysis dataset"
   ]
  },
  {
   "cell_type": "code",
   "execution_count": 2,
   "metadata": {},
   "outputs": [],
   "source": [
    "image_train = tc.SFrame(\"image_train_data\\image_train_data\\m_504edbda459b24ff.frame_idx\")"
   ]
  },
  {
   "cell_type": "code",
   "execution_count": 3,
   "metadata": {},
   "outputs": [],
   "source": [
    "image_test = tc.SFrame(\"image_test_data\\image_test_data\\m_e16f5ffd2c088370.frame_idx\")"
   ]
  },
  {
   "cell_type": "markdown",
   "metadata": {},
   "source": [
    "# Exploring the image data"
   ]
  },
  {
   "cell_type": "code",
   "execution_count": 14,
   "metadata": {},
   "outputs": [
    {
     "data": {
      "text/html": [
       "<html lang=\"en\">                                                     <head>                                                               <style>                                                              .sframe {                                                            font-size: 12px;                                                   font-family: HelveticaNeue;                                        border: 1px solid silver;                                        }                                                                  .sframe thead th {                                                   background: #F7F7F7;                                               font-family: HelveticaNeue-Medium;                                 font-size: 14px;                                                   line-height: 16.8px;                                               padding-top: 16px;                                                 padding-bottom: 16px;                                              padding-left: 10px;                                                padding-right: 38px;                                               border-top: 1px solid #E9E9E9;                                     border-bottom: 1px solid #E9E9E9;                                  white-space: nowrap;                                               overflow: hidden;                                                  text-overflow:ellipsis;                                            text-align:center;                                                 font-weight:normal;                                              }                                                                  .sframe tbody th {                                                   background: #FFFFFF;                                               text-align:left;                                                   font-weight:normal;                                                border-right: 1px solid #E9E9E9;                                 }                                                                  .sframe td {                                                         background: #FFFFFF;                                               padding-left: 10px;                                                padding-right: 38px;                                               padding-top: 14px;                                                 padding-bottom: 14px;                                              border-bottom: 1px solid #E9E9E9;                                  max-height: 0px;                                                   transition: max-height 5s ease-out;                                vertical-align: middle;                                            font-family: HelveticaNeue;                                        font-size: 12px;                                                   line-height: 16.8px;                                               background: #FFFFFF;                                             }                                                                  .sframe tr {                                                         padding-left: 10px;                                                padding-right: 38px;                                               padding-top: 14px;                                                 padding-bottom: 14px;                                              border-bottom: 1px solid #E9E9E9;                                  max-height: 0px;                                                   transition: max-height 5s ease-out;                                vertical-align: middle;                                            font-family: HelveticaNeue;                                        font-size: 12px;                                                   line-height: 16.8px;                                               background: #FFFFFF;                                             }                                                                  .sframe tr:hover {                                                   background: silver;                                              },                                                               </style>                                                         </head>                                                            <body>                                                               <h1>  </h1>                                             <table border=\"1\" class=\"dataframe sframe\">\n",
       "  <thead>\n",
       "    <tr style=\"text-align: right;\">\n",
       "      <th></th>\n",
       "      <th>SArray</th>\n",
       "    </tr>\n",
       "  </thead>\n",
       "  <tbody>\n",
       "    <tr>\n",
       "      <th>0</th>\n",
       "      <td><img src=\"data:image/png;base64,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\"/></td>\n",
       "    </tr>\n",
       "    <tr>\n",
       "      <th>1</th>\n",
       "      <td><img src=\"data:image/png;base64,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\"/></td>\n",
       "    </tr>\n",
       "    <tr>\n",
       "      <th>2</th>\n",
       "      <td><img src=\"data:image/png;base64,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\"/></td>\n",
       "    </tr>\n",
       "    <tr>\n",
       "      <th>3</th>\n",
       "      <td><img src=\"data:image/png;base64,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\"/></td>\n",
       "    </tr>\n",
       "    <tr>\n",
       "      <th>4</th>\n",
       "      <td><img src=\"data:image/png;base64,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\"/></td>\n",
       "    </tr>\n",
       "    <tr>\n",
       "      <th>5</th>\n",
       "      <td><img src=\"data:image/png;base64,iVBORw0KGgoAAAANSUhEUgAAACAAAAAgCAIAAAD8GO2jAAAJiElEQVR4nCXM15IcVxkA4P/Ezj2xJ25SXjkbZ3NBcBXBRfEGXFM8HkUBVb4AF05gW7YV7BLyaqWVdmd28nT3dDyJC74H+NCVl8YSKEGE29R2rLI0lBEn4IjZB9eP57MLrarX3/7glbd+14n2GRjfpkorqQxCoLVGgDACoZRUoLXSSkutS6G1kgwLLRQaHg8MECMxxtjzbYyI49i2y4QC7Jj1qrB9y2/ZP3n7tzdvv+O7Dc657Tj97p42EkBLKY3BlHJR18+e/TcI2n7QNkopLao814agd959tQTDGRdSa6ktgzqed/3G1aTIs12cpmXCtLCAMO753agzQFR7YfjCC+8JURFC1quF5zmtVn+zWH/++d+vHb/87vu/n8/O0/hyNX0aNCPaDKPKmEFvSBg7Pz9fPL+44oS3X3jj2XTaTLept72nyVbmvmfXdbGcn8bb1LLZdvJMKFVWpkgrO+CY4PVkmSSLIl871H7w4MvF9HmRJbbj0kQqrJQdNm2v1V3H7nDgDgYziRPmGQ8ZqYe230DE9ryyyF2fJda5T2rf8lKpFpuNiy1kOEjldHptwqwCTv7z6WY2EVkutSrqHR37zXaz2fRdTaDqDcH2ZNi+KIwJu5dJHleJE18cXbumCCKOx5SieZWvLmHPXu+y+ekzRjCzrN5oVNdi1IpkLQDTd157l1FyenbCXIduy9xzBh99fS8kqHHteGq1xmU+hGSWUVXLoBvxWfLwzleZ0YNG0EHGVYa4/tnjx5s4aRLTiQbjfrNBDMW227KtRq+UGPutRn8ctvy0VDQcHaRxcvrdN6FnvdEfdDpjVKK2KtrMSkW+f2WfjryP/nmx3Gzq/uBks5NV5Tt2ArykTivyp1nx+tWXG14zlZQ7NNEm22wnZ0t9Hh8cjLeTu/SFmzenTx8OO2HU7zqyaKtiGPqQ1dhBAUUQLzTjB8eR474KVpg9P1s8mudG016rWNIZDRtjm3QOY693b5rcCKJJVtsWtfZ4arUmps5xRRlBoe28/dabUavtcuZTWS1OJEEMd2bLS3SwZ3ZiU1jQbZU6wS4EvbDVtrKk5o7bG/fb/bbfi5brskw2oh24yCjErWKpGCWGN1p79OLHh6No6NlhkSerJE7rjbeeREf7j1eLf3165/jW9sp+hMFtltnO1BrZro9cagFBQc9vNxudRs8Iff/e3ZMfn+yFjssQqKKv8jJ5bDG7EDm9++1X4vZLAhTUuYVqj+j9g1502Kvm+Ye/eG0QRY3QUYA9l2Krk5ViG2elNEsbY+7YAesPvACVey23d3zltlcftky9zufTQulCiTxZbNCNmwcvHe0f9voNx+2EVi9gUZt77QBh6liMGGQACMcKkBIgqzIuhNC6qDQQ0vCbYdTSnJR5hVMpRZKLYnYeP3j4pGKMQI1RRQ+6YYMTT5lRGIb9tgOylkjF1GZgCoEVMkARqlZZOlmtbdvq96K9ThT6jhMiRXBeVPM4y9J6OVuVwHeCn33/qJY6rcV0etkZN2nNvTun0y+SH1+7eXgwHrW46/lhw7V9iwQOsVz24/nk24enxGXvvvfia7fGHWKBxLUsZptyXorpNFuvMhm0iN2PxkdkvY3ns5xZDy83m832RkPR+SaJt9l2s519lfI7PzDGA8/pNYJht/vifmdX5U9z9eFv3nr/zaNuGMSL9XQ2SYtyEqtljhmxxGIOrt88vA3Mr7n9w/3P4ryYI5UWBQsdEiDKjHF9N9mslYESTF5U22x3Or1shLOvT8O6LD749U9vHV8ndfnpJ188mWZxKpRCXhAC45ZVYyRqDaHdmE+n33z579njB3GtdpAevdq1GOYBosNbjYvTGBDBABgZwKAMQojkeU4pcRiNc/HXj+8Eane5qYs4H7f9sNn6/smz1WLeidpHvXZa7e7/7c/z6dPV5fN0s1MIDa8F0ZEjcpGsShrtMca81cTJtoUBUAa0AQSgtK6LQpZwcRm3ol6bKJtbbos0B9HpxeKTz+7PF4tu0xc/f6tQeDW/iJNlkQvbdYY3wsaYGyW3q/LpyZJqo7027+z5aVIgwAAGADBCBoHSBhDIKgZTUNe3KAkclFXVo7OVE7bxNi7q+unZk11R1ELZrjU8DHr7PnYkNkZrJCtlDNDlNN/talFrQEhqgwHAGECIEGIQMsYwyyHc0SJtN32Pq/vn60ITKUvGOOV6tYrzqurvtw9udYOQIEYpeCLPpK46XQeBovMnxWa5y5LCABj0/5sCAoSw0gYRtDyfPlDy+oh27GGF8OkkThJZVzmzbaMq7nijm4PxgWt7tJLC571x9EqaLC8Xj7r+aDl7QsudNMZgTm2CpRBaKIMIxtgY0EorpZL1OksTSweE5FlhHp/pbrvVGA+X6a7h09G1VtC3KFJKKGRIlmyn6hQzJio1eba5nGRU6NoQpalCYKhBgIjWSEiBDMYIa21KDVRDvCufnq+2O6iMFYSDo1FvIxPfoxoUrhVzGLO5zgsF5WL9A8IUV+zs0clmm9Ko1812OS5yWdeiEBobkIpibDRCUhuOAUBomCzEZFZKhIfHtuXT5sizgYoqLRVQy6lkgZUm2IDRlClMYLXOM1UbpOnLoyMJRGqZVkVSiSzepck2zhKplKwUphhjJEpjNI6iblLmtsustt6WC5/YgI3AGiOJGFRGAhakBEvQqhaLdVxVNdGU3nvwnef5e62W3GRCk72W//qvfvnx3bs/3L3DmWs0YIw5V8NR+/jW4TJOvIbuhg7WVFNKwOEVokwDkkZrIUFRxIklK2bEhhIskaGiSbxR1B8fnHzyxfOz+fSc/eGPf2peuXry+HubWp7lYGI63XDQb7dC22tQQhHFiBCkUWmUpEhLIUtTUsxd7WWqEgQxzpsN7/I8UUjSa9e7fS/McHbw0rARNdJtdTlf3nrx6vVrIwpoFEWIg+s52ABC0rMtiXVpKpchQolNm5zYnNtJmaTJnBiilS7qEmOiJaKIKGJoH1G1na8dYTl290qjfrr+6B9/+Rl673DcyrLMdcB2XUSx64WeH3h+gzKalZmqZVFlzKIcMyyIFLnWIIxQYAwoqTPXxd3IyUtBi9oIbohtE0bBoN5+5HJnsb4YDIdJkg2j/rB3BAQZg3KRSSnKLN/E8xqqUtQSlcQoKlBe54xYBGEJpdCCE9ZuWoR4eV1TZ+/osDcIWz0waLNOh72oylOtte0GdVRTwLPZ+nz5mHEkoFA6JxJqJQpTU0yNphRhh2GOOQVLKVVUNWjNKNdIAQBg8z9T+KS+5/XS2gAAAABJRU5ErkJggg==\"/></td>\n",
       "    </tr>\n",
       "    <tr>\n",
       "      <th>6</th>\n",
       "      <td><img src=\"data:image/png;base64,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\"/></td>\n",
       "    </tr>\n",
       "    <tr>\n",
       "      <th>7</th>\n",
       "      <td><img src=\"data:image/png;base64,iVBORw0KGgoAAAANSUhEUgAAACAAAAAgCAIAAAD8GO2jAAAIEUlEQVR4nD3QTY9d2VXG8bX2Wnvvc1+rbFe7u+N0Oy9NGhgAEgMGEWKGmDJjgsQnRTAgQlEipSVARATSxm617bJddeuee87ee70xsMTsGf1/0oN//w9/t9lurq6OiKHhgciE14edS6cEpW5agyFLSiPF9KPPvxjtfHd+qJtJTfvoiEzEzJxzdrMEyhgiCoBENGTwT54d97ttKblOhUo6z6dwf/yIMLamktEPTx8RHQFldP6Pb755crX7069/Gmiiw2AXiVofJWcAWNeBqjfX1yml3ntCRN7x0yva7SiRHw9cp3rKfbksNXotE5SCYfspwtXAsEzLunx2c9xN3No6dElE6Eq6Zp6YuEzkGikEA8AWcfUB/OhYiSIXIhxo8MnVte2P5/mynB+4cMp0fz5Ju6SaPW0OTz/Lx/0I5SkzThoAIpV4yqXkrGYNQdARooOc5vuEyMxca8mFI6y1DoWIEyQDtuG6oS2a975upzI86mFf9rnLXBnVdRmG0k2Gge0Ph7Wtp/MpV2bGdcwSC0biJqYxrqcp55qShFuTNnwVXNx1E4kxH3e5bvL8MNSWPuz92nalKhTAbDCGr7I2gdZbE+mJGAIg2lQdEHie74jRfLk6Pk6J2mhD2/ny0MYD51gQyu7R9qp2E5UM0tA0ERsSRDI1RNxspoBuPlPGlKuHug8ACwcH4Hm+O17tWlOIiMhAjEhuFIp5KuvS+/oul8T1gLjflumwReYyup0ezm6BENePt7UWUTeNtQ8Lmyqp6rqMzXTg60dXORMRpYRmYeLM5bC9cYX7d/elVOkrZb9+sgMEoiJDRx+qYj4AwNSWS/Th4Y6Y2rISJ2BODlPOYMoAISKt9Zx1mg69DZPIXDf5eN/Pl/P5k5sn2z1HREJQdRkRYIBRCo3RcsmIyTTGMJHGlAoxAUM4IIwuvK5LzhURzKS3mai6qQrUKV9fHdvIu9122tAyVERVFQDMxGMQe53Yhrs7Ai+Xi4hMEyEgYTZFt0AgLiUjJiJKyVXXTaVIwUzEcn1dAidKybwz82XVMVYPxGQmDQMRYMgAsTBeLiPn3Lp28SFpU0sEBAaLCFFiZkSolTxW4kIMak19DEGIpDYMyqtXZ/T29GbHTAxIlC6XszsS5Mu8nO7nw2HvyUqt80VUMGfAFEnUzWIMERliIiHD+yqzhKxj7doMhll68e3dL3/1m9u7txrxMC8RWQbIwKlWBAOTwjRERZMphOO62NqsDUkQRMiEKSESZXUU9Xntl2WYc6k1JWxrvPj2/tV3t5e1DwVzUku9B1Nl4so0FXr2g09zrQlpKvW43YVipm2dtnx9PLhBqTSGavcEmZkjRkQwc6UEKd4uy6tX73tHgEypIGtCYEbwhJAAgZgScWYqOR13Eyjs63YqG4+WpPd5PovI2vTd7QcXkyYZOQWGhg8AK99/f//hw2JGGJmxJkxmgxLUksNhbUM97k+nT26e/Pj5F8f9Zj592E2b5IxeWBU8YOk6Nx2Wuni4qa7MxJzXFV7fvvvm33+/dAcATqSizGiqKRXpChqIlCtpKAD03tHHZlNTgq7hCXleh4VZjhH5Muz8/cVU7+7vc+btZvfudv7vF69ev1s1CrNtJk4QJROVrSkkyhGWED3RsZKM4ebrctqULCqUi5kyUDUfKnBa7OWr04fb5fzwMM+zmSXiy2U0FeSNu0/sh31BdJWBmWreYcpBImGLqkgnT4goHigDQVKMNhrPLS0N3r67ff327s3rh75ia6uIR4C7WEQggXqYueOm1MpwXi7he8wJ3NF86YsTLutlU7bgrApcslu4tnk+8y9++Z8qMc9rW0XEh0ofw90RMcARAAFdxdXmC97fXezZ1NZVpepkmTFUPDwciMgA+nKez5fYXpv0RJQQ+X++fV3L5BYASc1aaxEB4O4AAIiIiAEQ4b3bf/3+5fMfTtN23xY3WTdTnnKmFF1bX8aQFm6UaAxxRR8DwtmN1MDM4+MRZojoHh/rERERAAAA7vHiuzfvz88fQYAWV1nV+HgYGvO8zueLapTCjqHjst0eGQkxGAylCyQAQnNPKbn7/0c/Mh8fSyndfji/fP0BfDfB5tHxkJjGcEDabw+VS2uDCM8PM0beb3YRhgmYQcwAE4dHeKSUzMzdU0ofgYj4qALAGLYs8vjRY2ieKzumtjRA21TklLT3R09vmPK6WFsXZu6jpb/6+V8QWKFUcwkPERERd3ezj1JEfBwAkJASUmHebquivbl7+zCfT6e7N29ej77uNvV0f+fmJnqZL+uytNbS3/7Nzz99VD7/9Ob5F19q72qm5uZh7mYqqqKmZhGOobsNTyX13gJ8bZelLaeHu9E7phQAnPl8XpZLN4fWx+l8OZ8X9vnFV89311/87MnNF7/77b+9f5gTkQd4KIEHkENEeOW42tQvv3xydcxuNkBMkIEjCSZq3QAkor//MJcMlAsA9THaUH5Y7n781Q+//OOv/+jrP3v78rf/+E//8ubDgwEiWIJAiICUa/rqRz/4w588u35cnzzZT7WOVUQMLJhyOPRhqr33FpBFY2mXUjdtSOvCby8zlOy4HPb+13/55zeb9M//+uvfvfhut9tO03RZGzJ99vmTn/302fNnj+tEkQBTAkwQrmI1Z5GBgBBpu7nyguvax7IufagFYuLXp3OifHv78rv/vS6x/skfPLvaT7/41W8s4vrqWjGCE7IDLABTLYe7h0uLLs1sYHgQZVVJhBA4RsiQ+bIkzne377roJzdP/w+qaDogyR8WsAAAAABJRU5ErkJggg==\"/></td>\n",
       "    </tr>\n",
       "    <tr>\n",
       "      <th>8</th>\n",
       "      <td><img src=\"data:image/png;base64,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\"/></td>\n",
       "    </tr>\n",
       "    <tr>\n",
       "      <th>9</th>\n",
       "      <td><img src=\"data:image/png;base64,iVBORw0KGgoAAAANSUhEUgAAACAAAAAgCAIAAAD8GO2jAAAJyElEQVR4nDXRWXsV52EA4G//Zp85Z6RzJBlJCEuWsEViP5jFTS4xKc1PaP5f2gtf9EmTOE5b4zQYb6whCJCQkEDb2ebMmX2+rRd5+v6FFz745n9FqxEGb9/tP995ajTY3Ny8evWqbTt1XR0fH4dRVJVlmiTFLOsEIaOUMAwRlLK1bN62DaXUQFQUBSG43+87rkMIoRQkSTpLM/LVV3+ybZdz9uTpT3kxNRrs7OxkWXb79u2qqizLggBQSldXV4ssF01LMJplE6WUbTsYUYyg74XD8UQpEASelKKuc4QQAIAQEkYBiTrRf/7u9+sb78dz3fleVOZlXdcvXzzf+mDD9/293Zed7tzK8nJeFGVZKq1UJeomJ4Senp81QnW7c+mswpi5DgEAup7TtOUsnUphEEIQAbj76OHr1wdf/flPk+T84cOHaysXevPzRVFsb2/fuXPn5PTM9QI/DJu65ozNzc9zTkfDd8lk6nlR3O35fjQZJ67r+IFd17nt0vOzd2WVe25nNBppLYlUMorCK1e2Hz+uPr36c5fb6TTN0tmTR49/cfOztdUVyp26abpLS37gc8saDgfDcTo/14uiLmf264P93vx81AmEqIVo95+92t3dWVhckF0opfQ8l0ynEwTJ5cubjx5/b4wcj4ZVWVmclUXetg0lJMtmEOGmaWCJsqocJYll+Y4TYczqptZGTqajukrbtk7T6XA4QIhKYSilABhjIOGcce5wTufm4oP9ly6zIQRaq7Ztvv32HmV0afkiJtQgSBnVEDDLMoYpaZqmHY0GmEAIlQFgNksAACsrq1HUQQhIVXmeS4lFoiisqkZrs7S0Mkvv8sBaW1mvqsrh2fO/vRwP0s//5c61mzfyPG/zVgOAFQQIGSXLPHdsjAl0bM4ZsW0CAESQGmMsi0sJmkZWbU3Ksjw9PXddPwzij39+tZyO5+J4MkmSSWK0Pjo8/Pd/++1oPLx54zMvclohfGZpqqs6l7IOIw8TwznkHCuDqqKu68y23VlWD87PGeOMusQYI4SACDZN47rOxvsLw8F50SSQSVnX2IKNLP7wx/94++7g9u1f9fv9umnqqtVaRh2fc15VmRBNURSzWZameduKC+8tQ4QQs1oNKCbwxYP7lHIp9Xf3v5NSnJ7uHhy8FkJorSeTiRAyjvuEYKVUEASXL1++fv3G8nurUorj46NuN7Qd3opGaVmWtdbGshzbcqVSWVkDgyzLJYQQCGFd10LKuqobASF2JsMzhJDjx0Vevns7+WBjPV6IpWzv/fWH13tHv/71P3928wYhsCwzIQTG1PND1xVSaCFUK6SU2rK888FQakSEEJQiQggwYHd3jzAOgCMlo5QCwF3HvXTxAkYomeYIGcuJmlZ/c/fujz/cv3Xr1uLiQtvWAEANgIFEqBYRDrSZ5allM84s27KJ1lpKYVlWGIVnZ+eeFxJCulHseh7BmFKeF/Xh4Zso8vff7F64sLi4tEGIghB8/fX/dDqd7e0r6xvrhuAsn0GItAGO6wNIKKG+6yZJQiilhDAAQL/fd13n5YtnCMKyLI0xrutqY6JuzC0znLxdu9TrL3TS7Oz06Gzt4ooxZjgcPX36bOvy5Vt37nDOMSaO49d1yxhvitziLA59opSaTkeUsl6vd+3a1cHpm2malMXYti3OLYyJAqUBcmEhCAInnZ0DA1YuLgrZNE2rNUgm0x9+fPBf3/zlN//6m+3tn03GU8cJZNvMxgNCMOeMAACMUVmW1nV55cqHuy8eH77ZjWPLtjklTEhoEO+Gvs3RcDhQSo3TJM9mgef7fsdoEs/33lu+WBV1ndem1S6zRVVxzpRWRVZMDifwxYP7ZVm2bRuGIWfs+PDgiy9+W9UpQpAxq6rlxubPKFQYCmNMq/S7s9M0HVrcnosXlhZXLMtN03yazBzH4ZyHYbi1tTk/P5/nM4RxU9fw1aPvm6ahlBpjtFIuY3t7L356cD9JxpblGIj9sNsJbGSE41qTdDbLy6bMx6MJIdYnH386F/cp42XdJkmyu7ubJInjOGtra+vrGwsLC3Nzc3DvyY9t2wIAAAAIQooIYzAvkkePHpZFfXY+HE8nm++v+g4tygxg1gg1HY6V0IuLS47je27Q6y1gzoUUCKHpdJqm6XicjIYJAKDX78Odn741/8/iFsWkrnPHpZbNR8Px/sHbnZ2/2wy6NkEIEG4TZs0Hc57rO45TVS1CJAjDRoqiKqWQrusaY1zXaxvw6tWrg/0D+OTbu3t7e4eHh6urqxsbG5RSSoFlY4QggEgrUBbN8ycP9/eeLy9fuPmLX7bSmNYAAE5OToq84NyKOh1m20VZZlnmOM7Z2ZnnemE4Z1s255wIIcbjMaU0jmNKKWVYqjorcsZoVdVSACPZ1ub22fFx2+g8b4QCQANGaTzf7y9irTWAQCoVhoHr2pQySvHjx0/X3+cYA20ECYLg889vMcYHg0GSTDpdnzCAEAZQllXeCXvY+CdHb9JpHgQdBJk2EkDQKIURqqWkFCOEKEJlWYxGoziOwzDc2vqgLBtCozzPiEWRkM20nAlVTNKB0rNeL7YdS7SNzy3d1JOk/Otf7mWzMvAjZKBDmYJQKaW1rsraWJbFidGKEb7YX8IEN1XjOp6SJhlPpNQEGYmQdGwCCOsoN3BsoJQRJh3NEIBCNI9+2Nnc2KzqMgg6J+9OJslEGFCUJUJoOBwihBilbdsgCHu9XllVVVVxxpJkenBwyJgNj57cK+qibKq8yjvdiCMClAEaSaEnw+T+ve+PDk+vX7/+bOfvQrV1W02SCUTYAMM5d1231+vHcWw7ruu6/1jM8yKMQttykskUIgy/+/ILqdugE1oOhwAMzwbpJEWAvX51lAxnX33552ufXiUMvz7c557tdYKPtj/qRGHg+5xzznm32y2rOq/aOJ7rdrtaa0wwMEBrgxEBEJJaNJ5nW4xDAxCEnSDKk/LLP/z3g++fXlzeuHRxa31t/fDk8MPt7Q8/vvLRJ1cWlxZcxmdpenx8zC2LMRZ1Y8vvOI6LMEqnqZCiyIuyaubiOMsyMtfrcUaqsrBtrrQ8PT69+/Xd4WDQ7XQ4o+uXNgbj8/cuLF375Y2ND7cMNm1bN2UlhWC25TguIcRAaKDRQFNC53vzVV25nts2UgjRX+jBk71HnmuVWSZFA4DJp+Wzvz3PpgXUVDQqTbNLW2vXbl4LOkGrhYEGUwIBblsBIZRSQggJobbnE0oBAE3TCCGMAaJVWTZTShDXcxEwCONsNGvbBhp8cXVZLenB6fD46N3G5oVP/ukqd1ir6lmWMkYc5FWtMMb4vt+2bVEWWmsf+1o2UsoizzHCmBBoNMGAM/p/AG++9lZy1NYAAAAASUVORK5CYII=\"/></td>\n",
       "    </tr>\n",
       "  </tbody>\n",
       "</table>                          </body>                                                          </html>"
      ],
      "text/plain": [
       "<IPython.core.display.HTML object>"
      ]
     },
     "metadata": {},
     "output_type": "display_data"
    }
   ],
   "source": [
    "image_train['image'].head().explore()"
   ]
  },
  {
   "cell_type": "markdown",
   "metadata": {},
   "source": [
    "# Train a Classifier on the raw image pixels"
   ]
  },
  {
   "cell_type": "code",
   "execution_count": 7,
   "metadata": {},
   "outputs": [
    {
     "name": "stdout",
     "output_type": "stream",
     "text": [
      "PROGRESS: Creating a validation set from 5 percent of training data. This may take a while.\n",
      "          You can set ``validation_set=None`` to disable validation tracking.\n",
      "\n"
     ]
    },
    {
     "data": {
      "text/html": [
       "<pre>Logistic regression:</pre>"
      ],
      "text/plain": [
       "Logistic regression:"
      ]
     },
     "metadata": {},
     "output_type": "display_data"
    },
    {
     "data": {
      "text/html": [
       "<pre>--------------------------------------------------------</pre>"
      ],
      "text/plain": [
       "--------------------------------------------------------"
      ]
     },
     "metadata": {},
     "output_type": "display_data"
    },
    {
     "data": {
      "text/html": [
       "<pre>Number of examples          : 1904</pre>"
      ],
      "text/plain": [
       "Number of examples          : 1904"
      ]
     },
     "metadata": {},
     "output_type": "display_data"
    },
    {
     "data": {
      "text/html": [
       "<pre>Number of classes           : 4</pre>"
      ],
      "text/plain": [
       "Number of classes           : 4"
      ]
     },
     "metadata": {},
     "output_type": "display_data"
    },
    {
     "data": {
      "text/html": [
       "<pre>Number of feature columns   : 1</pre>"
      ],
      "text/plain": [
       "Number of feature columns   : 1"
      ]
     },
     "metadata": {},
     "output_type": "display_data"
    },
    {
     "data": {
      "text/html": [
       "<pre>Number of unpacked features : 3072</pre>"
      ],
      "text/plain": [
       "Number of unpacked features : 3072"
      ]
     },
     "metadata": {},
     "output_type": "display_data"
    },
    {
     "data": {
      "text/html": [
       "<pre>Number of coefficients      : 9219</pre>"
      ],
      "text/plain": [
       "Number of coefficients      : 9219"
      ]
     },
     "metadata": {},
     "output_type": "display_data"
    },
    {
     "data": {
      "text/html": [
       "<pre>Starting L-BFGS</pre>"
      ],
      "text/plain": [
       "Starting L-BFGS"
      ]
     },
     "metadata": {},
     "output_type": "display_data"
    },
    {
     "data": {
      "text/html": [
       "<pre>--------------------------------------------------------</pre>"
      ],
      "text/plain": [
       "--------------------------------------------------------"
      ]
     },
     "metadata": {},
     "output_type": "display_data"
    },
    {
     "data": {
      "text/html": [
       "<pre>+-----------+----------+-----------+--------------+-------------------+---------------------+</pre>"
      ],
      "text/plain": [
       "+-----------+----------+-----------+--------------+-------------------+---------------------+"
      ]
     },
     "metadata": {},
     "output_type": "display_data"
    },
    {
     "data": {
      "text/html": [
       "<pre>| Iteration | Passes   | Step size | Elapsed Time | Training Accuracy | Validation Accuracy |</pre>"
      ],
      "text/plain": [
       "| Iteration | Passes   | Step size | Elapsed Time | Training Accuracy | Validation Accuracy |"
      ]
     },
     "metadata": {},
     "output_type": "display_data"
    },
    {
     "data": {
      "text/html": [
       "<pre>+-----------+----------+-----------+--------------+-------------------+---------------------+</pre>"
      ],
      "text/plain": [
       "+-----------+----------+-----------+--------------+-------------------+---------------------+"
      ]
     },
     "metadata": {},
     "output_type": "display_data"
    },
    {
     "data": {
      "text/html": [
       "<pre>| 0         | 5        | 0.014528  | 1.293131     | 0.261029          | 0.178218            |</pre>"
      ],
      "text/plain": [
       "| 0         | 5        | 0.014528  | 1.293131     | 0.261029          | 0.178218            |"
      ]
     },
     "metadata": {},
     "output_type": "display_data"
    },
    {
     "data": {
      "text/html": [
       "<pre>| 1         | 11       | 4.954029  | 1.597900     | 0.417542          | 0.425743            |</pre>"
      ],
      "text/plain": [
       "| 1         | 11       | 4.954029  | 1.597900     | 0.417542          | 0.425743            |"
      ]
     },
     "metadata": {},
     "output_type": "display_data"
    },
    {
     "data": {
      "text/html": [
       "<pre>| 2         | 12       | 4.954029  | 1.710249     | 0.405462          | 0.415842            |</pre>"
      ],
      "text/plain": [
       "| 2         | 12       | 4.954029  | 1.710249     | 0.405462          | 0.415842            |"
      ]
     },
     "metadata": {},
     "output_type": "display_data"
    },
    {
     "data": {
      "text/html": [
       "<pre>| 3         | 19       | 0.431659  | 2.046111     | 0.438550          | 0.455446            |</pre>"
      ],
      "text/plain": [
       "| 3         | 19       | 0.431659  | 2.046111     | 0.438550          | 0.455446            |"
      ]
     },
     "metadata": {},
     "output_type": "display_data"
    },
    {
     "data": {
      "text/html": [
       "<pre>| 4         | 26       | 5.480081  | 2.391449     | 0.431723          | 0.435644            |</pre>"
      ],
      "text/plain": [
       "| 4         | 26       | 5.480081  | 2.391449     | 0.431723          | 0.435644            |"
      ]
     },
     "metadata": {},
     "output_type": "display_data"
    },
    {
     "data": {
      "text/html": [
       "<pre>| 9         | 32       | 1.342998  | 2.976317     | 0.529412          | 0.554455            |</pre>"
      ],
      "text/plain": [
       "| 9         | 32       | 1.342998  | 2.976317     | 0.529412          | 0.554455            |"
      ]
     },
     "metadata": {},
     "output_type": "display_data"
    },
    {
     "data": {
      "text/html": [
       "<pre>+-----------+----------+-----------+--------------+-------------------+---------------------+</pre>"
      ],
      "text/plain": [
       "+-----------+----------+-----------+--------------+-------------------+---------------------+"
      ]
     },
     "metadata": {},
     "output_type": "display_data"
    }
   ],
   "source": [
    "raw_pixel_model = tc.logistic_classifier.create(image_train, target = 'label',\n",
    "                                               features=['image_array'])"
   ]
  },
  {
   "cell_type": "markdown",
   "metadata": {},
   "source": [
    "# Make a prediction with the simple model based on raw pixels"
   ]
  },
  {
   "cell_type": "code",
   "execution_count": 11,
   "metadata": {},
   "outputs": [
    {
     "data": {
      "text/html": [
       "<html lang=\"en\">                                                     <head>                                                               <style>                                                              .sframe {                                                            font-size: 12px;                                                   font-family: HelveticaNeue;                                        border: 1px solid silver;                                        }                                                                  .sframe thead th {                                                   background: #F7F7F7;                                               font-family: HelveticaNeue-Medium;                                 font-size: 14px;                                                   line-height: 16.8px;                                               padding-top: 16px;                                                 padding-bottom: 16px;                                              padding-left: 10px;                                                padding-right: 38px;                                               border-top: 1px solid #E9E9E9;                                     border-bottom: 1px solid #E9E9E9;                                  white-space: nowrap;                                               overflow: hidden;                                                  text-overflow:ellipsis;                                            text-align:center;                                                 font-weight:normal;                                              }                                                                  .sframe tbody th {                                                   background: #FFFFFF;                                               text-align:left;                                                   font-weight:normal;                                                border-right: 1px solid #E9E9E9;                                 }                                                                  .sframe td {                                                         background: #FFFFFF;                                               padding-left: 10px;                                                padding-right: 38px;                                               padding-top: 14px;                                                 padding-bottom: 14px;                                              border-bottom: 1px solid #E9E9E9;                                  max-height: 0px;                                                   transition: max-height 5s ease-out;                                vertical-align: middle;                                            font-family: HelveticaNeue;                                        font-size: 12px;                                                   line-height: 16.8px;                                               background: #FFFFFF;                                             }                                                                  .sframe tr {                                                         padding-left: 10px;                                                padding-right: 38px;                                               padding-top: 14px;                                                 padding-bottom: 14px;                                              border-bottom: 1px solid #E9E9E9;                                  max-height: 0px;                                                   transition: max-height 5s ease-out;                                vertical-align: middle;                                            font-family: HelveticaNeue;                                        font-size: 12px;                                                   line-height: 16.8px;                                               background: #FFFFFF;                                             }                                                                  .sframe tr:hover {                                                   background: silver;                                              },                                                               </style>                                                         </head>                                                            <body>                                                               <h1>  </h1>                                             <table border=\"1\" class=\"dataframe sframe\">\n",
       "  <thead>\n",
       "    <tr style=\"text-align: right;\">\n",
       "      <th></th>\n",
       "      <th>SArray</th>\n",
       "    </tr>\n",
       "  </thead>\n",
       "  <tbody>\n",
       "    <tr>\n",
       "      <th>0</th>\n",
       "      <td><img src=\"data:image/png;base64,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\"/></td>\n",
       "    </tr>\n",
       "    <tr>\n",
       "      <th>1</th>\n",
       "      <td><img src=\"data:image/png;base64,iVBORw0KGgoAAAANSUhEUgAAACAAAAAgCAIAAAD8GO2jAAAJc0lEQVR4nC2UWW+cZxlAn+d532+b+eabxXvsxEmalTgJNLQNiJKWshQBQqISqOKGGyQkrlD5MVywXQBCAsoqRAGJrS1pq4bi1EmauHZiO7HH9ng88+3v9nBRdO7PzZEO/vh0ay52s6EI0bRC7sQoSFu05KE2kJaurNEyCSINPMx1rpCBbfKYuXJl/I+/70rsK7+X760PPRMnEMf9omjXRZDnhXDCMT54rpV4LDyXlYpYtAJ0TlfKEsnauHHNuQbjkCRZhHFpcw0GobDtNRJtzljzQENL4BCPrMatm4f9tuULaOM6L9AIQ3LeU9bYCrhQ1hpQCqx2ZQ3MoCxlDnIL2oGQZJEzTZXBGtloQ64eBzZ2wkfeQ/EwCW6N8/VhcRJZBiJk5xwDgxwcqsqRDbySQ5DBeDy2mqoaNKMBLJkKx4bR06jR1k5UFg06ti4iSC2MjCD0Sz/YUoU9rKad7ErbQvAcBJYsknyEzUwEsddQtc0LW2TEBiuNFbJBVIy1Awb0AQ2hIlSMyKDRSWZpZD05H0zMj7a3edifBUjJLTYCj2qIIsqcdUZuU5yzz4OqGhdlbQWAYKos1+gsAaN0TMhogC0CIAKiROkECGuaIg4vfvh9DPdq3WWdjvcnYu9Y0oyZmGRV56iNvL2dacWg2VlLhA7JZ6zZESBZJoECJTELZCQQksBaYOkIPGu41103+Mba+vhgcHZiosXqhIAmGlFZUDVzQYSyPywDEIIBCQMSFtgB8Qc6ZokkEARiSJ4Bx1LUnhWeR76HNtxP4tvbO2v37si6CO3kaeGaZaHQmtp4lgU4B0JakIhCIiOwYGAAD4mBCckDlkSC0DSkmehG2gWhn4GRbLSlUkBqaHdvgKxbHs9VxTRXlq0TWCMzAjlpGaQgjxgkMIAlQHRMBJIIGAnRk36zm1QtzyYNHpS2dtaa3Gon4zpsHmoRR53ji1FkxtLakUJXFNKhAWNRIBMDywBBMgsEx4gAgMDMzMDEFoSRQSb93bQKZbPwGmG3lRybWzyxOHf0Q6I3Ubz6Wr1f9Tc3H966sTPTGXuJ7O930syyZURyaJFliFYCCpQMwIIAwDlwyAzAksbaGs3N0xfPfeqzE/MLFDeDdmIAjG0MdHXyyatPHzu1cv2N7711/fX7D1qt9rUT53lj3Q4eWmRitswyYGZCJEQmApIARjAjOXaF8Jsnz0xeuhQcP7kr2zfvbu32d8vhKM0OD4bFYVF89OpHP/7SM/HT9PbVqy//40/74+3pVu/JY6eKcUY6k2AMs5QgFAEIQIuCUQAdovEANYbtc0t68bE390aH9687P1pZW9tYW22wneq2tgcHNfpPX7uW5ypqTn7ySy/8+9at+5vvr2xt+lGCQbtVV100hplQSkQSJAjAIRuiUnGtpTh68qDVvn7z3Vs3/lsNDooqs04JnwpVQCS9dvPyx5546rlrlbZ6ZC49/rFnnvt8I2izMsurd9ZU+Uh4+yRrQukIwQAxEoJCp+KkN3O2qtzh1Ozb6xu+lL1eMjmRbFmtjI6ThJrh5LHjz1554rnnvzg1v6hqJ0O/qgu/3bx44dLO6q1BmeXd3tLSlamyGN58UzLj/5uC0GFw0On2Tp0qDK8O0pnzFzcf3LUSGVWh9IWlpeeff/70yePz8wu96VkHtH8wAk8YVf70xz969dcvX5w+Xhkaanf+/NInPv152e+/trIsEZCQNLMWchjEN0udr9yLOp1kYnacFw+2d1hCODzMh/lL333hay++qLRmw0Wm6rqWDBLdH3/16+s/+0W0f1Bmcm5mcW7+I089/ez09JzfTIL2lATL7ECjc0ln7omrN/uDdCdVIwV+tnbvjkorFt5Eu+t1G+325PbO6CAdlWWFDrrtJG6GwDw7O3/xwuViOJw+cXryzLlkqicI0iztNkLX7UqwBowtJqaf+urXwytP/e0XL2dr+84YL/Kz0aHOxkGj1QibEzPzImj2B4dZmVsH3aRdGzPu78TNxkeeedZP2lvbD71Ou2YkrV1VOKs3d7b6ZSotc63twrXPPPGNb721sZVMzXnNVWatVV2kKbDWdXZv/f2jj52nwK+MUlpHYTNPsz//8XfLN29MzUx97rNfeOzskpw5kh4Oi7qoq0IpKMbZa//8+9b2liwMukY3Wjzzyhs3dkbDTrcXhAFa3nm4UdW5HwR+GDeSjucHJIRSyhjjCfj9b3/zkx9+n9GgpFvLN7/57e+cObuEIA4GB2U+1vnoX399ZfmN13uSpTImnGq/+p93fv+Dn116/PKpy5eDIDBlXeRjKQX5jaXHn1w8dS6KGkIIY4zneXu7j175w29Cj3oTM6Uq11bf++0vf/7lr7yYpuXgcB9s9e+//WX5zdcDVlEzJgumcnpj674kTtPU9/1OpzMcDrVRQSNu9aZanYk8L6Iomp6ebjabSau18WB9NDpIWq3h8CDP8iRurrxz4/a77xirfd/f2nhw9/ZKQG6qkzSjBmVAu1numE8cO4qIDBxFkbVW+EF3enb26HFmLPN8YWGBiKqqyoui3+9Lz2u2WjMzR5JWlw2nhwerd95Fcoi8ef++KYtW6IeCwDm5a0nVrqgth+ycq6rKMdRay6jZnppdWDw52Z1A4CgMt7cfseMgDKxzKD0h/aTdMW7PlKpIxw/WV09tP8jy6uHmpqorzVyYGvxIjiWBIFEpE1tGr8iruDdx5MSZZLJ3+tz5s2cuLMzOSIKgEQS+xw6BsRm1CD0LNDc/PzUze3t5uaiznf6juyvLeVHu7T5UxuRA4AnwSUIoAdkrsiT0UgFqPDw4GADbMsvv3r69s7EZR5EnPS/yCdAZS4Cj/V2nte/Je3fvChK7e/1a12k6euu1f9WqqstCCqoYmUmSkCT90ItycDsb75dB8GjzvZ3dfj5KWRADfHBZQIFCEhIyAzOB0ao+eewIotzfH8zPzd6+03dGjYYDBiZkRgaBTjhGlF4j9mXgSNZ1vTNOc137QTA1N5eXpXFWkgAAAAZnwVlnjDPGsHLOrqwsnz1zYW5mdmNjtaoKBEYC/ACB6JHfCFGSrEkyoCIZ9tpzjQQDP05abOz99fWyKsMoEkIIdKhLqzUba5S2rtJK5VV96727RHI82mMEL/DZISICghBC+p4fhI5ZmiBg8GR3amZhsTE9rwnysjjcH/jNdtyb9gKfCT1B0hl2jq3TVaWqvKpy58D3I7DOsq5VSgREHjM4Zz0hQ98XKByr/wHDUtiNYbvBngAAAABJRU5ErkJggg==\"/></td>\n",
       "    </tr>\n",
       "    <tr>\n",
       "      <th>2</th>\n",
       "      <td><img src=\"data:image/png;base64,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\"/></td>\n",
       "    </tr>\n",
       "  </tbody>\n",
       "</table>                          </body>                                                          </html>"
      ],
      "text/plain": [
       "<IPython.core.display.HTML object>"
      ]
     },
     "metadata": {},
     "output_type": "display_data"
    }
   ],
   "source": [
    "image_test[0:3]['image'].explore()"
   ]
  },
  {
   "cell_type": "code",
   "execution_count": 15,
   "metadata": {},
   "outputs": [
    {
     "data": {
      "text/plain": [
       "dtype: str\n",
       "Rows: 3\n",
       "['cat', 'automobile', 'cat']"
      ]
     },
     "execution_count": 15,
     "metadata": {},
     "output_type": "execute_result"
    }
   ],
   "source": [
    "image_test[0:3]['label']"
   ]
  },
  {
   "cell_type": "code",
   "execution_count": 16,
   "metadata": {},
   "outputs": [
    {
     "data": {
      "text/plain": [
       "dtype: str\n",
       "Rows: 3\n",
       "['bird', 'cat', 'bird']"
      ]
     },
     "execution_count": 16,
     "metadata": {},
     "output_type": "execute_result"
    }
   ],
   "source": [
    "raw_pixel_model.predict(image_test[0:3])"
   ]
  },
  {
   "cell_type": "markdown",
   "metadata": {},
   "source": [
    "# Evaluating raw pixel model on test data"
   ]
  },
  {
   "cell_type": "code",
   "execution_count": 17,
   "metadata": {},
   "outputs": [
    {
     "data": {
      "text/plain": [
       "{'accuracy': 0.4855,\n",
       " 'auc': 0.7254773749999999,\n",
       " 'confusion_matrix': Columns:\n",
       " \ttarget_label\tstr\n",
       " \tpredicted_label\tstr\n",
       " \tcount\tint\n",
       " \n",
       " Rows: 16\n",
       " \n",
       " Data:\n",
       " +--------------+-----------------+-------+\n",
       " | target_label | predicted_label | count |\n",
       " +--------------+-----------------+-------+\n",
       " |     dog      |    automobile   |   85  |\n",
       " |     cat      |       cat       |  308  |\n",
       " |     bird     |    automobile   |  102  |\n",
       " |  automobile  |    automobile   |  616  |\n",
       " |     dog      |       bird      |  302  |\n",
       " |     cat      |    automobile   |  132  |\n",
       " |     dog      |       dog       |  404  |\n",
       " |     cat      |       dog       |  298  |\n",
       " |     bird     |       cat       |  132  |\n",
       " |     dog      |       cat       |  209  |\n",
       " +--------------+-----------------+-------+\n",
       " [16 rows x 3 columns]\n",
       " Note: Only the head of the SFrame is printed.\n",
       " You can use print_rows(num_rows=m, num_columns=n) to print more rows and columns.,\n",
       " 'f1_score': 0.48084095402072535,\n",
       " 'log_loss': 1.2091243673984147,\n",
       " 'precision': 0.4842699521428709,\n",
       " 'recall': 0.48549999999999993,\n",
       " 'roc_curve': Columns:\n",
       " \tthreshold\tfloat\n",
       " \tfpr\tfloat\n",
       " \ttpr\tfloat\n",
       " \tp\tint\n",
       " \tn\tint\n",
       " \tclass\tint\n",
       " \n",
       " Rows: 400004\n",
       " \n",
       " Data:\n",
       " +-----------+-----+-----+------+------+-------+\n",
       " | threshold | fpr | tpr |  p   |  n   | class |\n",
       " +-----------+-----+-----+------+------+-------+\n",
       " |    0.0    | 1.0 | 1.0 | 1000 | 3000 |   0   |\n",
       " |   1e-05   | 1.0 | 1.0 | 1000 | 3000 |   0   |\n",
       " |   2e-05   | 1.0 | 1.0 | 1000 | 3000 |   0   |\n",
       " |   3e-05   | 1.0 | 1.0 | 1000 | 3000 |   0   |\n",
       " |   4e-05   | 1.0 | 1.0 | 1000 | 3000 |   0   |\n",
       " |   5e-05   | 1.0 | 1.0 | 1000 | 3000 |   0   |\n",
       " |   6e-05   | 1.0 | 1.0 | 1000 | 3000 |   0   |\n",
       " |   7e-05   | 1.0 | 1.0 | 1000 | 3000 |   0   |\n",
       " |   8e-05   | 1.0 | 1.0 | 1000 | 3000 |   0   |\n",
       " |   9e-05   | 1.0 | 1.0 | 1000 | 3000 |   0   |\n",
       " +-----------+-----+-----+------+------+-------+\n",
       " [400004 rows x 6 columns]\n",
       " Note: Only the head of the SFrame is printed.\n",
       " You can use print_rows(num_rows=m, num_columns=n) to print more rows and columns.}"
      ]
     },
     "execution_count": 17,
     "metadata": {},
     "output_type": "execute_result"
    }
   ],
   "source": [
    "raw_pixel_model.evaluate(image_test)"
   ]
  },
  {
   "cell_type": "markdown",
   "metadata": {},
   "source": [
    "# Can we improve the model using deep features?"
   ]
  },
  {
   "cell_type": "code",
   "execution_count": 18,
   "metadata": {},
   "outputs": [
    {
     "data": {
      "text/plain": [
       "2005"
      ]
     },
     "execution_count": 18,
     "metadata": {},
     "output_type": "execute_result"
    }
   ],
   "source": [
    "len(image_train)"
   ]
  },
  {
   "cell_type": "code",
   "execution_count": 21,
   "metadata": {},
   "outputs": [],
   "source": [
    "## we already did this step and we have the deep_features col\n",
    "#deep_learning_model = tc.load_model('imagenet_model')\n",
    "#image_train['deep_features'] = deep_learning_model.extract_features(image_train)"
   ]
  },
  {
   "cell_type": "code",
   "execution_count": 22,
   "metadata": {},
   "outputs": [
    {
     "data": {
      "text/html": [
       "<div style=\"max-height:1000px;max-width:1500px;overflow:auto;\"><table frame=\"box\" rules=\"cols\">\n",
       "    <tr>\n",
       "        <th style=\"padding-left: 1em; padding-right: 1em; text-align: center\">id</th>\n",
       "        <th style=\"padding-left: 1em; padding-right: 1em; text-align: center\">image</th>\n",
       "        <th style=\"padding-left: 1em; padding-right: 1em; text-align: center\">label</th>\n",
       "        <th style=\"padding-left: 1em; padding-right: 1em; text-align: center\">deep_features</th>\n",
       "        <th style=\"padding-left: 1em; padding-right: 1em; text-align: center\">image_array</th>\n",
       "    </tr>\n",
       "    <tr>\n",
       "        <td style=\"padding-left: 1em; padding-right: 1em; text-align: center; vertical-align: top\">24</td>\n",
       "        <td style=\"padding-left: 1em; padding-right: 1em; text-align: center; vertical-align: top\">Height: 32 Width: 32</td>\n",
       "        <td style=\"padding-left: 1em; padding-right: 1em; text-align: center; vertical-align: top\">bird</td>\n",
       "        <td style=\"padding-left: 1em; padding-right: 1em; text-align: center; vertical-align: top\">[0.24287176132202148,<br>1.0954537391662598, 0.0, ...</td>\n",
       "        <td style=\"padding-left: 1em; padding-right: 1em; text-align: center; vertical-align: top\">[73.0, 77.0, 58.0, 71.0,<br>68.0, 50.0, 77.0, 69.0, ...</td>\n",
       "    </tr>\n",
       "    <tr>\n",
       "        <td style=\"padding-left: 1em; padding-right: 1em; text-align: center; vertical-align: top\">33</td>\n",
       "        <td style=\"padding-left: 1em; padding-right: 1em; text-align: center; vertical-align: top\">Height: 32 Width: 32</td>\n",
       "        <td style=\"padding-left: 1em; padding-right: 1em; text-align: center; vertical-align: top\">cat</td>\n",
       "        <td style=\"padding-left: 1em; padding-right: 1em; text-align: center; vertical-align: top\">[0.5250879526138306, 0.0,<br>0.0, 0.0, 0.0, 0.0, ...</td>\n",
       "        <td style=\"padding-left: 1em; padding-right: 1em; text-align: center; vertical-align: top\">[7.0, 5.0, 8.0, 7.0, 5.0,<br>8.0, 5.0, 4.0, 6.0, 7.0, ...</td>\n",
       "    </tr>\n",
       "    <tr>\n",
       "        <td style=\"padding-left: 1em; padding-right: 1em; text-align: center; vertical-align: top\">36</td>\n",
       "        <td style=\"padding-left: 1em; padding-right: 1em; text-align: center; vertical-align: top\">Height: 32 Width: 32</td>\n",
       "        <td style=\"padding-left: 1em; padding-right: 1em; text-align: center; vertical-align: top\">cat</td>\n",
       "        <td style=\"padding-left: 1em; padding-right: 1em; text-align: center; vertical-align: top\">[0.5660159587860107, 0.0,<br>0.0, 0.0, 0.0, 0.0, ...</td>\n",
       "        <td style=\"padding-left: 1em; padding-right: 1em; text-align: center; vertical-align: top\">[169.0, 122.0, 65.0,<br>131.0, 108.0, 75.0, ...</td>\n",
       "    </tr>\n",
       "    <tr>\n",
       "        <td style=\"padding-left: 1em; padding-right: 1em; text-align: center; vertical-align: top\">70</td>\n",
       "        <td style=\"padding-left: 1em; padding-right: 1em; text-align: center; vertical-align: top\">Height: 32 Width: 32</td>\n",
       "        <td style=\"padding-left: 1em; padding-right: 1em; text-align: center; vertical-align: top\">dog</td>\n",
       "        <td style=\"padding-left: 1em; padding-right: 1em; text-align: center; vertical-align: top\">[1.129795789718628, 0.0,<br>0.0, 0.7781944870948792, ...</td>\n",
       "        <td style=\"padding-left: 1em; padding-right: 1em; text-align: center; vertical-align: top\">[154.0, 179.0, 152.0,<br>159.0, 183.0, 157.0, ...</td>\n",
       "    </tr>\n",
       "    <tr>\n",
       "        <td style=\"padding-left: 1em; padding-right: 1em; text-align: center; vertical-align: top\">90</td>\n",
       "        <td style=\"padding-left: 1em; padding-right: 1em; text-align: center; vertical-align: top\">Height: 32 Width: 32</td>\n",
       "        <td style=\"padding-left: 1em; padding-right: 1em; text-align: center; vertical-align: top\">bird</td>\n",
       "        <td style=\"padding-left: 1em; padding-right: 1em; text-align: center; vertical-align: top\">[1.7178692817687988, 0.0,<br>0.0, 0.0, 0.0, 0.0, ...</td>\n",
       "        <td style=\"padding-left: 1em; padding-right: 1em; text-align: center; vertical-align: top\">[216.0, 195.0, 180.0,<br>201.0, 178.0, 160.0, ...</td>\n",
       "    </tr>\n",
       "    <tr>\n",
       "        <td style=\"padding-left: 1em; padding-right: 1em; text-align: center; vertical-align: top\">97</td>\n",
       "        <td style=\"padding-left: 1em; padding-right: 1em; text-align: center; vertical-align: top\">Height: 32 Width: 32</td>\n",
       "        <td style=\"padding-left: 1em; padding-right: 1em; text-align: center; vertical-align: top\">automobile</td>\n",
       "        <td style=\"padding-left: 1em; padding-right: 1em; text-align: center; vertical-align: top\">[1.5781855583190918, 0.0,<br>0.0, 0.0, 0.0, 0.0, ...</td>\n",
       "        <td style=\"padding-left: 1em; padding-right: 1em; text-align: center; vertical-align: top\">[33.0, 44.0, 27.0, 29.0,<br>44.0, 31.0, 32.0, 45.0, ...</td>\n",
       "    </tr>\n",
       "    <tr>\n",
       "        <td style=\"padding-left: 1em; padding-right: 1em; text-align: center; vertical-align: top\">107</td>\n",
       "        <td style=\"padding-left: 1em; padding-right: 1em; text-align: center; vertical-align: top\">Height: 32 Width: 32</td>\n",
       "        <td style=\"padding-left: 1em; padding-right: 1em; text-align: center; vertical-align: top\">dog</td>\n",
       "        <td style=\"padding-left: 1em; padding-right: 1em; text-align: center; vertical-align: top\">[0.0, 0.0,<br>0.22067785263061523,  ...</td>\n",
       "        <td style=\"padding-left: 1em; padding-right: 1em; text-align: center; vertical-align: top\">[97.0, 51.0, 31.0, 104.0,<br>58.0, 38.0, 107.0, 61.0, ...</td>\n",
       "    </tr>\n",
       "    <tr>\n",
       "        <td style=\"padding-left: 1em; padding-right: 1em; text-align: center; vertical-align: top\">121</td>\n",
       "        <td style=\"padding-left: 1em; padding-right: 1em; text-align: center; vertical-align: top\">Height: 32 Width: 32</td>\n",
       "        <td style=\"padding-left: 1em; padding-right: 1em; text-align: center; vertical-align: top\">bird</td>\n",
       "        <td style=\"padding-left: 1em; padding-right: 1em; text-align: center; vertical-align: top\">[0.0,<br>0.23753464221954346,  ...</td>\n",
       "        <td style=\"padding-left: 1em; padding-right: 1em; text-align: center; vertical-align: top\">[93.0, 96.0, 88.0, 102.0,<br>106.0, 97.0, 117.0, ...</td>\n",
       "    </tr>\n",
       "    <tr>\n",
       "        <td style=\"padding-left: 1em; padding-right: 1em; text-align: center; vertical-align: top\">136</td>\n",
       "        <td style=\"padding-left: 1em; padding-right: 1em; text-align: center; vertical-align: top\">Height: 32 Width: 32</td>\n",
       "        <td style=\"padding-left: 1em; padding-right: 1em; text-align: center; vertical-align: top\">automobile</td>\n",
       "        <td style=\"padding-left: 1em; padding-right: 1em; text-align: center; vertical-align: top\">[0.0, 0.0, 0.0, 0.0, 0.0,<br>0.0, 7.57378625869751, ...</td>\n",
       "        <td style=\"padding-left: 1em; padding-right: 1em; text-align: center; vertical-align: top\">[35.0, 59.0, 53.0, 36.0,<br>56.0, 56.0, 42.0, 62.0, ...</td>\n",
       "    </tr>\n",
       "    <tr>\n",
       "        <td style=\"padding-left: 1em; padding-right: 1em; text-align: center; vertical-align: top\">138</td>\n",
       "        <td style=\"padding-left: 1em; padding-right: 1em; text-align: center; vertical-align: top\">Height: 32 Width: 32</td>\n",
       "        <td style=\"padding-left: 1em; padding-right: 1em; text-align: center; vertical-align: top\">bird</td>\n",
       "        <td style=\"padding-left: 1em; padding-right: 1em; text-align: center; vertical-align: top\">[0.6589357256889343, 0.0,<br>0.0, 0.0, 0.0, 0.0, ...</td>\n",
       "        <td style=\"padding-left: 1em; padding-right: 1em; text-align: center; vertical-align: top\">[205.0, 193.0, 195.0,<br>200.0, 187.0, 193.0, ...</td>\n",
       "    </tr>\n",
       "</table>\n",
       "[10 rows x 5 columns]<br/>\n",
       "</div>"
      ],
      "text/plain": [
       "Columns:\n",
       "\tid\tint\n",
       "\timage\tImage\n",
       "\tlabel\tstr\n",
       "\tdeep_features\tarray\n",
       "\timage_array\tarray\n",
       "\n",
       "Rows: 10\n",
       "\n",
       "Data:\n",
       "+-----+----------------------+------------+-------------------------------+\n",
       "|  id |        image         |   label    |         deep_features         |\n",
       "+-----+----------------------+------------+-------------------------------+\n",
       "|  24 | Height: 32 Width: 32 |    bird    | [0.24287176132202148, 1.09... |\n",
       "|  33 | Height: 32 Width: 32 |    cat     | [0.5250879526138306, 0.0, ... |\n",
       "|  36 | Height: 32 Width: 32 |    cat     | [0.5660159587860107, 0.0, ... |\n",
       "|  70 | Height: 32 Width: 32 |    dog     | [1.129795789718628, 0.0, 0... |\n",
       "|  90 | Height: 32 Width: 32 |    bird    | [1.7178692817687988, 0.0, ... |\n",
       "|  97 | Height: 32 Width: 32 | automobile | [1.5781855583190918, 0.0, ... |\n",
       "| 107 | Height: 32 Width: 32 |    dog     | [0.0, 0.0, 0.2206778526306... |\n",
       "| 121 | Height: 32 Width: 32 |    bird    | [0.0, 0.23753464221954346,... |\n",
       "| 136 | Height: 32 Width: 32 | automobile | [0.0, 0.0, 0.0, 0.0, 0.0, ... |\n",
       "| 138 | Height: 32 Width: 32 |    bird    | [0.6589357256889343, 0.0, ... |\n",
       "+-----+----------------------+------------+-------------------------------+\n",
       "+-------------------------------+\n",
       "|          image_array          |\n",
       "+-------------------------------+\n",
       "| [73.0, 77.0, 58.0, 71.0, 6... |\n",
       "| [7.0, 5.0, 8.0, 7.0, 5.0, ... |\n",
       "| [169.0, 122.0, 65.0, 131.0... |\n",
       "| [154.0, 179.0, 152.0, 159.... |\n",
       "| [216.0, 195.0, 180.0, 201.... |\n",
       "| [33.0, 44.0, 27.0, 29.0, 4... |\n",
       "| [97.0, 51.0, 31.0, 104.0, ... |\n",
       "| [93.0, 96.0, 88.0, 102.0, ... |\n",
       "| [35.0, 59.0, 53.0, 36.0, 5... |\n",
       "| [205.0, 193.0, 195.0, 200.... |\n",
       "+-------------------------------+\n",
       "[10 rows x 5 columns]"
      ]
     },
     "execution_count": 22,
     "metadata": {},
     "output_type": "execute_result"
    }
   ],
   "source": [
    "image_train.head()"
   ]
  },
  {
   "cell_type": "markdown",
   "metadata": {},
   "source": [
    "# Given the deep features, let's train a classifier "
   ]
  },
  {
   "cell_type": "code",
   "execution_count": 25,
   "metadata": {},
   "outputs": [
    {
     "name": "stdout",
     "output_type": "stream",
     "text": [
      "PROGRESS: Creating a validation set from 5 percent of training data. This may take a while.\n",
      "          You can set ``validation_set=None`` to disable validation tracking.\n",
      "\n"
     ]
    },
    {
     "data": {
      "text/html": [
       "<pre>Logistic regression:</pre>"
      ],
      "text/plain": [
       "Logistic regression:"
      ]
     },
     "metadata": {},
     "output_type": "display_data"
    },
    {
     "data": {
      "text/html": [
       "<pre>--------------------------------------------------------</pre>"
      ],
      "text/plain": [
       "--------------------------------------------------------"
      ]
     },
     "metadata": {},
     "output_type": "display_data"
    },
    {
     "data": {
      "text/html": [
       "<pre>Number of examples          : 1904</pre>"
      ],
      "text/plain": [
       "Number of examples          : 1904"
      ]
     },
     "metadata": {},
     "output_type": "display_data"
    },
    {
     "data": {
      "text/html": [
       "<pre>Number of classes           : 4</pre>"
      ],
      "text/plain": [
       "Number of classes           : 4"
      ]
     },
     "metadata": {},
     "output_type": "display_data"
    },
    {
     "data": {
      "text/html": [
       "<pre>Number of feature columns   : 1</pre>"
      ],
      "text/plain": [
       "Number of feature columns   : 1"
      ]
     },
     "metadata": {},
     "output_type": "display_data"
    },
    {
     "data": {
      "text/html": [
       "<pre>Number of unpacked features : 4096</pre>"
      ],
      "text/plain": [
       "Number of unpacked features : 4096"
      ]
     },
     "metadata": {},
     "output_type": "display_data"
    },
    {
     "data": {
      "text/html": [
       "<pre>Number of coefficients      : 12291</pre>"
      ],
      "text/plain": [
       "Number of coefficients      : 12291"
      ]
     },
     "metadata": {},
     "output_type": "display_data"
    },
    {
     "data": {
      "text/html": [
       "<pre>Starting L-BFGS</pre>"
      ],
      "text/plain": [
       "Starting L-BFGS"
      ]
     },
     "metadata": {},
     "output_type": "display_data"
    },
    {
     "data": {
      "text/html": [
       "<pre>--------------------------------------------------------</pre>"
      ],
      "text/plain": [
       "--------------------------------------------------------"
      ]
     },
     "metadata": {},
     "output_type": "display_data"
    },
    {
     "data": {
      "text/html": [
       "<pre>+-----------+----------+-----------+--------------+-------------------+---------------------+</pre>"
      ],
      "text/plain": [
       "+-----------+----------+-----------+--------------+-------------------+---------------------+"
      ]
     },
     "metadata": {},
     "output_type": "display_data"
    },
    {
     "data": {
      "text/html": [
       "<pre>| Iteration | Passes   | Step size | Elapsed Time | Training Accuracy | Validation Accuracy |</pre>"
      ],
      "text/plain": [
       "| Iteration | Passes   | Step size | Elapsed Time | Training Accuracy | Validation Accuracy |"
      ]
     },
     "metadata": {},
     "output_type": "display_data"
    },
    {
     "data": {
      "text/html": [
       "<pre>+-----------+----------+-----------+--------------+-------------------+---------------------+</pre>"
      ],
      "text/plain": [
       "+-----------+----------+-----------+--------------+-------------------+---------------------+"
      ]
     },
     "metadata": {},
     "output_type": "display_data"
    },
    {
     "data": {
      "text/html": [
       "<pre>| 0         | 3        | 0.500000  | 0.204475     | 0.750525          | 0.831683            |</pre>"
      ],
      "text/plain": [
       "| 0         | 3        | 0.500000  | 0.204475     | 0.750525          | 0.831683            |"
      ]
     },
     "metadata": {},
     "output_type": "display_data"
    },
    {
     "data": {
      "text/html": [
       "<pre>| 1         | 6        | 0.250000  | 0.538216     | 0.761029          | 0.801980            |</pre>"
      ],
      "text/plain": [
       "| 1         | 6        | 0.250000  | 0.538216     | 0.761029          | 0.801980            |"
      ]
     },
     "metadata": {},
     "output_type": "display_data"
    },
    {
     "data": {
      "text/html": [
       "<pre>| 2         | 9        | 0.216712  | 0.873576     | 0.770483          | 0.841584            |</pre>"
      ],
      "text/plain": [
       "| 2         | 9        | 0.216712  | 0.873576     | 0.770483          | 0.841584            |"
      ]
     },
     "metadata": {},
     "output_type": "display_data"
    },
    {
     "data": {
      "text/html": [
       "<pre>| 3         | 13       | 0.650137  | 1.158393     | 0.784139          | 0.831683            |</pre>"
      ],
      "text/plain": [
       "| 3         | 13       | 0.650137  | 1.158393     | 0.784139          | 0.831683            |"
      ]
     },
     "metadata": {},
     "output_type": "display_data"
    },
    {
     "data": {
      "text/html": [
       "<pre>| 4         | 14       | 0.812671  | 1.292409     | 0.809874          | 0.861386            |</pre>"
      ],
      "text/plain": [
       "| 4         | 14       | 0.812671  | 1.292409     | 0.809874          | 0.861386            |"
      ]
     },
     "metadata": {},
     "output_type": "display_data"
    },
    {
     "data": {
      "text/html": [
       "<pre>| 9         | 20       | 1.000000  | 2.098450     | 0.910714          | 0.881188            |</pre>"
      ],
      "text/plain": [
       "| 9         | 20       | 1.000000  | 2.098450     | 0.910714          | 0.881188            |"
      ]
     },
     "metadata": {},
     "output_type": "display_data"
    },
    {
     "data": {
      "text/html": [
       "<pre>+-----------+----------+-----------+--------------+-------------------+---------------------+</pre>"
      ],
      "text/plain": [
       "+-----------+----------+-----------+--------------+-------------------+---------------------+"
      ]
     },
     "metadata": {},
     "output_type": "display_data"
    }
   ],
   "source": [
    "deep_features_model = tc.logistic_classifier.create(image_train,\n",
    "                                                   features=['deep_features'],\n",
    "                                                   target='label')"
   ]
  },
  {
   "cell_type": "markdown",
   "metadata": {},
   "source": [
    "# Apply the deep features model to the first few images of test set"
   ]
  },
  {
   "cell_type": "code",
   "execution_count": 26,
   "metadata": {},
   "outputs": [
    {
     "data": {
      "text/html": [
       "<html lang=\"en\">                                                     <head>                                                               <style>                                                              .sframe {                                                            font-size: 12px;                                                   font-family: HelveticaNeue;                                        border: 1px solid silver;                                        }                                                                  .sframe thead th {                                                   background: #F7F7F7;                                               font-family: HelveticaNeue-Medium;                                 font-size: 14px;                                                   line-height: 16.8px;                                               padding-top: 16px;                                                 padding-bottom: 16px;                                              padding-left: 10px;                                                padding-right: 38px;                                               border-top: 1px solid #E9E9E9;                                     border-bottom: 1px solid #E9E9E9;                                  white-space: nowrap;                                               overflow: hidden;                                                  text-overflow:ellipsis;                                            text-align:center;                                                 font-weight:normal;                                              }                                                                  .sframe tbody th {                                                   background: #FFFFFF;                                               text-align:left;                                                   font-weight:normal;                                                border-right: 1px solid #E9E9E9;                                 }                                                                  .sframe td {                                                         background: #FFFFFF;                                               padding-left: 10px;                                                padding-right: 38px;                                               padding-top: 14px;                                                 padding-bottom: 14px;                                              border-bottom: 1px solid #E9E9E9;                                  max-height: 0px;                                                   transition: max-height 5s ease-out;                                vertical-align: middle;                                            font-family: HelveticaNeue;                                        font-size: 12px;                                                   line-height: 16.8px;                                               background: #FFFFFF;                                             }                                                                  .sframe tr {                                                         padding-left: 10px;                                                padding-right: 38px;                                               padding-top: 14px;                                                 padding-bottom: 14px;                                              border-bottom: 1px solid #E9E9E9;                                  max-height: 0px;                                                   transition: max-height 5s ease-out;                                vertical-align: middle;                                            font-family: HelveticaNeue;                                        font-size: 12px;                                                   line-height: 16.8px;                                               background: #FFFFFF;                                             }                                                                  .sframe tr:hover {                                                   background: silver;                                              },                                                               </style>                                                         </head>                                                            <body>                                                               <h1>  </h1>                                             <table border=\"1\" class=\"dataframe sframe\">\n",
       "  <thead>\n",
       "    <tr style=\"text-align: right;\">\n",
       "      <th></th>\n",
       "      <th>SArray</th>\n",
       "    </tr>\n",
       "  </thead>\n",
       "  <tbody>\n",
       "    <tr>\n",
       "      <th>0</th>\n",
       "      <td><img src=\"data:image/png;base64,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\"/></td>\n",
       "    </tr>\n",
       "    <tr>\n",
       "      <th>1</th>\n",
       "      <td><img src=\"data:image/png;base64,iVBORw0KGgoAAAANSUhEUgAAACAAAAAgCAIAAAD8GO2jAAAJc0lEQVR4nC2UWW+cZxlAn+d532+b+eabxXvsxEmalTgJNLQNiJKWshQBQqISqOKGGyQkrlD5MVywXQBCAsoqRAGJrS1pq4bi1EmauHZiO7HH9ng88+3v9nBRdO7PzZEO/vh0ay52s6EI0bRC7sQoSFu05KE2kJaurNEyCSINPMx1rpCBbfKYuXJl/I+/70rsK7+X760PPRMnEMf9omjXRZDnhXDCMT54rpV4LDyXlYpYtAJ0TlfKEsnauHHNuQbjkCRZhHFpcw0GobDtNRJtzljzQENL4BCPrMatm4f9tuULaOM6L9AIQ3LeU9bYCrhQ1hpQCqx2ZQ3MoCxlDnIL2oGQZJEzTZXBGtloQ64eBzZ2wkfeQ/EwCW6N8/VhcRJZBiJk5xwDgxwcqsqRDbySQ5DBeDy2mqoaNKMBLJkKx4bR06jR1k5UFg06ti4iSC2MjCD0Sz/YUoU9rKad7ErbQvAcBJYsknyEzUwEsddQtc0LW2TEBiuNFbJBVIy1Awb0AQ2hIlSMyKDRSWZpZD05H0zMj7a3edifBUjJLTYCj2qIIsqcdUZuU5yzz4OqGhdlbQWAYKos1+gsAaN0TMhogC0CIAKiROkECGuaIg4vfvh9DPdq3WWdjvcnYu9Y0oyZmGRV56iNvL2dacWg2VlLhA7JZ6zZESBZJoECJTELZCQQksBaYOkIPGu41103+Mba+vhgcHZiosXqhIAmGlFZUDVzQYSyPywDEIIBCQMSFtgB8Qc6ZokkEARiSJ4Bx1LUnhWeR76HNtxP4tvbO2v37si6CO3kaeGaZaHQmtp4lgU4B0JakIhCIiOwYGAAD4mBCckDlkSC0DSkmehG2gWhn4GRbLSlUkBqaHdvgKxbHs9VxTRXlq0TWCMzAjlpGaQgjxgkMIAlQHRMBJIIGAnRk36zm1QtzyYNHpS2dtaa3Gon4zpsHmoRR53ji1FkxtLakUJXFNKhAWNRIBMDywBBMgsEx4gAgMDMzMDEFoSRQSb93bQKZbPwGmG3lRybWzyxOHf0Q6I3Ubz6Wr1f9Tc3H966sTPTGXuJ7O930syyZURyaJFliFYCCpQMwIIAwDlwyAzAksbaGs3N0xfPfeqzE/MLFDeDdmIAjG0MdHXyyatPHzu1cv2N7711/fX7D1qt9rUT53lj3Q4eWmRitswyYGZCJEQmApIARjAjOXaF8Jsnz0xeuhQcP7kr2zfvbu32d8vhKM0OD4bFYVF89OpHP/7SM/HT9PbVqy//40/74+3pVu/JY6eKcUY6k2AMs5QgFAEIQIuCUQAdovEANYbtc0t68bE390aH9687P1pZW9tYW22wneq2tgcHNfpPX7uW5ypqTn7ySy/8+9at+5vvr2xt+lGCQbtVV100hplQSkQSJAjAIRuiUnGtpTh68qDVvn7z3Vs3/lsNDooqs04JnwpVQCS9dvPyx5546rlrlbZ6ZC49/rFnnvt8I2izMsurd9ZU+Uh4+yRrQukIwQAxEoJCp+KkN3O2qtzh1Ozb6xu+lL1eMjmRbFmtjI6ThJrh5LHjz1554rnnvzg1v6hqJ0O/qgu/3bx44dLO6q1BmeXd3tLSlamyGN58UzLj/5uC0GFw0On2Tp0qDK8O0pnzFzcf3LUSGVWh9IWlpeeff/70yePz8wu96VkHtH8wAk8YVf70xz969dcvX5w+Xhkaanf+/NInPv152e+/trIsEZCQNLMWchjEN0udr9yLOp1kYnacFw+2d1hCODzMh/lL333hay++qLRmw0Wm6rqWDBLdH3/16+s/+0W0f1Bmcm5mcW7+I089/ez09JzfTIL2lATL7ECjc0ln7omrN/uDdCdVIwV+tnbvjkorFt5Eu+t1G+325PbO6CAdlWWFDrrtJG6GwDw7O3/xwuViOJw+cXryzLlkqicI0iztNkLX7UqwBowtJqaf+urXwytP/e0XL2dr+84YL/Kz0aHOxkGj1QibEzPzImj2B4dZmVsH3aRdGzPu78TNxkeeedZP2lvbD71Ou2YkrV1VOKs3d7b6ZSotc63twrXPPPGNb721sZVMzXnNVWatVV2kKbDWdXZv/f2jj52nwK+MUlpHYTNPsz//8XfLN29MzUx97rNfeOzskpw5kh4Oi7qoq0IpKMbZa//8+9b2liwMukY3Wjzzyhs3dkbDTrcXhAFa3nm4UdW5HwR+GDeSjucHJIRSyhjjCfj9b3/zkx9+n9GgpFvLN7/57e+cObuEIA4GB2U+1vnoX399ZfmN13uSpTImnGq/+p93fv+Dn116/PKpy5eDIDBlXeRjKQX5jaXHn1w8dS6KGkIIY4zneXu7j175w29Cj3oTM6Uq11bf++0vf/7lr7yYpuXgcB9s9e+//WX5zdcDVlEzJgumcnpj674kTtPU9/1OpzMcDrVRQSNu9aZanYk8L6Iomp6ebjabSau18WB9NDpIWq3h8CDP8iRurrxz4/a77xirfd/f2nhw9/ZKQG6qkzSjBmVAu1numE8cO4qIDBxFkbVW+EF3enb26HFmLPN8YWGBiKqqyoui3+9Lz2u2WjMzR5JWlw2nhwerd95Fcoi8ef++KYtW6IeCwDm5a0nVrqgth+ycq6rKMdRay6jZnppdWDw52Z1A4CgMt7cfseMgDKxzKD0h/aTdMW7PlKpIxw/WV09tP8jy6uHmpqorzVyYGvxIjiWBIFEpE1tGr8iruDdx5MSZZLJ3+tz5s2cuLMzOSIKgEQS+xw6BsRm1CD0LNDc/PzUze3t5uaiznf6juyvLeVHu7T5UxuRA4AnwSUIoAdkrsiT0UgFqPDw4GADbMsvv3r69s7EZR5EnPS/yCdAZS4Cj/V2nte/Je3fvChK7e/1a12k6euu1f9WqqstCCqoYmUmSkCT90ItycDsb75dB8GjzvZ3dfj5KWRADfHBZQIFCEhIyAzOB0ao+eewIotzfH8zPzd6+03dGjYYDBiZkRgaBTjhGlF4j9mXgSNZ1vTNOc137QTA1N5eXpXFWkgAAAAZnwVlnjDPGsHLOrqwsnz1zYW5mdmNjtaoKBEYC/ACB6JHfCFGSrEkyoCIZ9tpzjQQDP05abOz99fWyKsMoEkIIdKhLqzUba5S2rtJK5VV96727RHI82mMEL/DZISICghBC+p4fhI5ZmiBg8GR3amZhsTE9rwnysjjcH/jNdtyb9gKfCT1B0hl2jq3TVaWqvKpy58D3I7DOsq5VSgREHjM4Zz0hQ98XKByr/wHDUtiNYbvBngAAAABJRU5ErkJggg==\"/></td>\n",
       "    </tr>\n",
       "    <tr>\n",
       "      <th>2</th>\n",
       "      <td><img src=\"data:image/png;base64,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\"/></td>\n",
       "    </tr>\n",
       "  </tbody>\n",
       "</table>                          </body>                                                          </html>"
      ],
      "text/plain": [
       "<IPython.core.display.HTML object>"
      ]
     },
     "metadata": {},
     "output_type": "display_data"
    }
   ],
   "source": [
    "image_test[0:3]['image'].explorelore()"
   ]
  },
  {
   "cell_type": "code",
   "execution_count": 27,
   "metadata": {},
   "outputs": [
    {
     "data": {
      "text/plain": [
       "dtype: str\n",
       "Rows: 3\n",
       "['cat', 'automobile', 'cat']"
      ]
     },
     "execution_count": 27,
     "metadata": {},
     "output_type": "execute_result"
    }
   ],
   "source": [
    "deep_features_model.predict(image_test[0:3])"
   ]
  },
  {
   "cell_type": "markdown",
   "metadata": {},
   "source": [
    "# Compute test_data accuracy of deep_features_model"
   ]
  },
  {
   "cell_type": "code",
   "execution_count": 28,
   "metadata": {},
   "outputs": [
    {
     "data": {
      "text/plain": [
       "{'accuracy': 0.79375,\n",
       " 'auc': 0.9419892500000004,\n",
       " 'confusion_matrix': Columns:\n",
       " \ttarget_label\tstr\n",
       " \tpredicted_label\tstr\n",
       " \tcount\tint\n",
       " \n",
       " Rows: 16\n",
       " \n",
       " Data:\n",
       " +--------------+-----------------+-------+\n",
       " | target_label | predicted_label | count |\n",
       " +--------------+-----------------+-------+\n",
       " |     dog      |       cat       |  232  |\n",
       " |     bird     |       bird      |  793  |\n",
       " |  automobile  |       bird      |   15  |\n",
       " |  automobile  |    automobile   |  951  |\n",
       " |     bird     |    automobile   |   15  |\n",
       " |     cat      |       cat       |  718  |\n",
       " |     bird     |       cat       |  139  |\n",
       " |     cat      |       dog       |  206  |\n",
       " |     dog      |       dog       |  713  |\n",
       " |     dog      |    automobile   |   10  |\n",
       " +--------------+-----------------+-------+\n",
       " [16 rows x 3 columns]\n",
       " Note: Only the head of the SFrame is printed.\n",
       " You can use print_rows(num_rows=m, num_columns=n) to print more rows and columns.,\n",
       " 'f1_score': 0.7957173500328658,\n",
       " 'log_loss': 0.5971154107840594,\n",
       " 'precision': 0.7996352702675751,\n",
       " 'recall': 0.7937500000000001,\n",
       " 'roc_curve': Columns:\n",
       " \tthreshold\tfloat\n",
       " \tfpr\tfloat\n",
       " \ttpr\tfloat\n",
       " \tp\tint\n",
       " \tn\tint\n",
       " \tclass\tint\n",
       " \n",
       " Rows: 400004\n",
       " \n",
       " Data:\n",
       " +-----------+--------------------+-----+------+------+-------+\n",
       " | threshold |        fpr         | tpr |  p   |  n   | class |\n",
       " +-----------+--------------------+-----+------+------+-------+\n",
       " |    0.0    |        1.0         | 1.0 | 1000 | 3000 |   0   |\n",
       " |   1e-05   | 0.8906666666666667 | 1.0 | 1000 | 3000 |   0   |\n",
       " |   2e-05   |       0.859        | 1.0 | 1000 | 3000 |   0   |\n",
       " |   3e-05   |       0.832        | 1.0 | 1000 | 3000 |   0   |\n",
       " |   4e-05   | 0.8083333333333333 | 1.0 | 1000 | 3000 |   0   |\n",
       " |   5e-05   |       0.794        | 1.0 | 1000 | 3000 |   0   |\n",
       " |   6e-05   | 0.7743333333333333 | 1.0 | 1000 | 3000 |   0   |\n",
       " |   7e-05   |       0.758        | 1.0 | 1000 | 3000 |   0   |\n",
       " |   8e-05   |       0.746        | 1.0 | 1000 | 3000 |   0   |\n",
       " |   9e-05   | 0.7333333333333333 | 1.0 | 1000 | 3000 |   0   |\n",
       " +-----------+--------------------+-----+------+------+-------+\n",
       " [400004 rows x 6 columns]\n",
       " Note: Only the head of the SFrame is printed.\n",
       " You can use print_rows(num_rows=m, num_columns=n) to print more rows and columns.}"
      ]
     },
     "execution_count": 28,
     "metadata": {},
     "output_type": "execute_result"
    }
   ],
   "source": [
    "deep_features_model.evaluate(image_test)"
   ]
  },
  {
   "cell_type": "code",
   "execution_count": null,
   "metadata": {},
   "outputs": [],
   "source": []
  }
 ],
 "metadata": {
  "kernelspec": {
   "display_name": "Python 3",
   "language": "python",
   "name": "python3"
  },
  "language_info": {
   "codemirror_mode": {
    "name": "ipython",
    "version": 3
   },
   "file_extension": ".py",
   "mimetype": "text/x-python",
   "name": "python",
   "nbconvert_exporter": "python",
   "pygments_lexer": "ipython3",
   "version": "3.6.9"
  }
 },
 "nbformat": 4,
 "nbformat_minor": 4
}
